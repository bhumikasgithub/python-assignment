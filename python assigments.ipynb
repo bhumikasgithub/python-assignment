{
 "cells": [
  {
   "cell_type": "markdown",
   "id": "aabafa45-b277-4a5c-84b5-8ce543627582",
   "metadata": {},
   "source": [
    "Python Basic Question\n",
    "\n",
    "1.\tWrite a Python program to print \"Hello Python\"?\n",
    "2.\tWrite a Python program to do arithmetical operations addition and division.?\n",
    "3.\tWrite a Python program to find the area of a triangle?\n",
    "4.\tWrite a Python program to swap two variables?\n",
    "5.\tWrite a Python program to generate a random number?\n",
    "\n",
    "\n",
    "\n"
   ]
  },
  {
   "cell_type": "code",
   "execution_count": 1,
   "id": "684940c7-67b1-4cda-ada4-578e1ef261ed",
   "metadata": {},
   "outputs": [
    {
     "name": "stdout",
     "output_type": "stream",
     "text": [
      "hello python\n"
     ]
    }
   ],
   "source": [
    "#1\n",
    "print (\"hello python\")"
   ]
  },
  {
   "cell_type": "code",
   "execution_count": 14,
   "id": "169c099d-9e1d-4da7-8782-17f7b373b166",
   "metadata": {},
   "outputs": [
    {
     "name": "stdout",
     "output_type": "stream",
     "text": [
      "sum is  : 30\n",
      "div is : 2.0\n"
     ]
    }
   ],
   "source": [
    "#2\n",
    "a=10\n",
    "b=20\n",
    "sum=a+b\n",
    "div=20/10\n",
    "print(\"sum is  :\",sum)\n",
    "print(\"div is :\", div )"
   ]
  },
  {
   "cell_type": "code",
   "execution_count": 16,
   "id": "31477f16-a0f8-495a-95a0-e85a9e7b7aa3",
   "metadata": {},
   "outputs": [
    {
     "name": "stdout",
     "output_type": "stream",
     "text": [
      "250.0\n"
     ]
    }
   ],
   "source": [
    "#3\n",
    "b=25\n",
    "h=20\n",
    "area = 0.5*b*h\n",
    "print (area)"
   ]
  },
  {
   "cell_type": "code",
   "execution_count": 21,
   "id": "d5e7d784-8f7d-4847-98cb-572270f434b4",
   "metadata": {},
   "outputs": [
    {
     "name": "stdout",
     "output_type": "stream",
     "text": [
      "after sawping a= 20 b= 20\n"
     ]
    }
   ],
   "source": [
    "#4\n",
    "a=10\n",
    "b=20\n",
    "a=b\n",
    "b=a\n",
    "print(\"after sawping a=\", a , \"b=\", b)"
   ]
  },
  {
   "cell_type": "code",
   "execution_count": 34,
   "id": "b809454d-d279-4b2b-830f-6ad97f2cc0e6",
   "metadata": {},
   "outputs": [
    {
     "name": "stdout",
     "output_type": "stream",
     "text": [
      "pinku: 9\n"
     ]
    }
   ],
   "source": [
    "#5\n",
    "import random \n",
    "num = random.randint(1,10)\n",
    "print(\"pinku:\", num)\n"
   ]
  },
  {
   "cell_type": "markdown",
   "id": "acc0ad7d-5dab-4aae-8419-1376d8b46b43",
   "metadata": {},
   "source": [
    "\n",
    "\n",
    "\n",
    "\n",
    "1.\tWrite a Python program to convert kilometers to miles?\n",
    "2.\tWrite a Python program to convert Celsius to Fahrenheit?\n",
    "3.\tWrite a Python program to display calendar?\n",
    "4.\tWrite a Python program to solve quadratic equation?\n",
    "5.\tWrite a Python program to swap two variables without temp variable?\n"
   ]
  },
  {
   "cell_type": "code",
   "execution_count": 10,
   "id": "d90308bb-d07e-4dec-8eb3-bbd129f66e8b",
   "metadata": {},
   "outputs": [
    {
     "name": "stdin",
     "output_type": "stream",
     "text": [
      "inter the km  30\n"
     ]
    },
    {
     "name": "stdout",
     "output_type": "stream",
     "text": [
      "30.0 kilometers is equal to 20.946 miles\n"
     ]
    }
   ],
   "source": [
    "# 1\n",
    "km = float(input(\"inter the km \"))\n",
    "miles = km*0.6213\n",
    "\n",
    "print(f\"{km} kilometers is equal to {miles} miles\")"
   ]
  },
  {
   "cell_type": "code",
   "execution_count": 12,
   "id": "87ce880d-3572-498e-bb7f-c8502aedbd84",
   "metadata": {},
   "outputs": [
    {
     "name": "stdin",
     "output_type": "stream",
     "text": [
      "inter the temprecaruter in celsius 45\n"
     ]
    },
    {
     "name": "stdout",
     "output_type": "stream",
     "text": [
      "45.0 is equal to 133.25 fahrenheit\n"
     ]
    }
   ],
   "source": [
    "#2\n",
    "celsius = float(input(\"inter the temprecaruter in celsius\"))\n",
    "fahrenheit = (celsius *9/4)+32\n",
    "print (f\"{celsius} is equal to {fahrenheit} fahrenheit\" )"
   ]
  },
  {
   "cell_type": "code",
   "execution_count": 14,
   "id": "58e8929f-e894-49a2-b3a8-78f70a27d74c",
   "metadata": {},
   "outputs": [
    {
     "name": "stdin",
     "output_type": "stream",
     "text": [
      "Enter year:  2004\n",
      "Enter month (1-12):  11\n"
     ]
    },
    {
     "name": "stdout",
     "output_type": "stream",
     "text": [
      "   November 2004\n",
      "Mo Tu We Th Fr Sa Su\n",
      " 1  2  3  4  5  6  7\n",
      " 8  9 10 11 12 13 14\n",
      "15 16 17 18 19 20 21\n",
      "22 23 24 25 26 27 28\n",
      "29 30\n",
      "\n"
     ]
    }
   ],
   "source": [
    "#3\n",
    "import calendar\n",
    "\n",
    "year = int(input(\"Enter year: \"))\n",
    "month = int(input(\"Enter month (1-12): \"))\n",
    "\n",
    "print(calendar.month(year, month))\n"
   ]
  },
  {
   "cell_type": "code",
   "execution_count": 16,
   "id": "f165234a-8bb5-41ce-8625-195b259e4212",
   "metadata": {},
   "outputs": [
    {
     "name": "stdin",
     "output_type": "stream",
     "text": [
      "Enter a:  24\n",
      "Enter b:  5\n",
      "Enter c:  9\n"
     ]
    },
    {
     "name": "stdout",
     "output_type": "stream",
     "text": [
      "The solutions are (-0.10416666666666667+0.6034478482483433j) and (-0.10416666666666667-0.6034478482483433j)\n"
     ]
    }
   ],
   "source": [
    "#4\n",
    "import cmath  # To handle complex numbers\n",
    "\n",
    "\n",
    "a = float(input(\"Enter a: \"))\n",
    "b = float(input(\"Enter b: \"))\n",
    "c = float(input(\"Enter c: \"))\n",
    "\n",
    "# Calculate the discriminant\n",
    "d = (b**2) - (4*a*c)\n",
    "\n",
    "# Find two solutions\n",
    "sol1 = (-b + cmath.sqrt(d)) / (2*a)\n",
    "sol2 = (-b - cmath.sqrt(d)) / (2*a)\n",
    "\n",
    "print(f\"The solutions are {sol1} and {sol2}\")\n"
   ]
  },
  {
   "cell_type": "code",
   "execution_count": 24,
   "id": "99a437dc-8a94-41d6-a6eb-bba982c188b0",
   "metadata": {},
   "outputs": [
    {
     "name": "stdout",
     "output_type": "stream",
     "text": [
      "After swapping: x = 26, y = 25\n"
     ]
    }
   ],
   "source": [
    "#5\n",
    "x = 25\n",
    "y = 26\n",
    "\n",
    "x, y = y, x\n",
    "\n",
    "print(f\"After swapping: x = {x}, y = {y}\")\n"
   ]
  },
  {
   "cell_type": "code",
   "execution_count": null,
   "id": "d129b26d-69e7-4bc9-9e01-ebfabd54539d",
   "metadata": {},
   "outputs": [],
   "source": []
  }
 ],
 "metadata": {
  "kernelspec": {
   "display_name": "Python 3 (ipykernel)",
   "language": "python",
   "name": "python3"
  },
  "language_info": {
   "codemirror_mode": {
    "name": "ipython",
    "version": 3
   },
   "file_extension": ".py",
   "mimetype": "text/x-python",
   "name": "python",
   "nbconvert_exporter": "python",
   "pygments_lexer": "ipython3",
   "version": "3.12.7"
  }
 },
 "nbformat": 4,
 "nbformat_minor": 5
}
